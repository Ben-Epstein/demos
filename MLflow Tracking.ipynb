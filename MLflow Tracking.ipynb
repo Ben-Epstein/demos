{
 "cells": [
  {
   "cell_type": "markdown",
   "metadata": {},
   "source": [
    "# View, Compare, and Share Experiment Results"
   ]
  },
  {
   "cell_type": "code",
   "execution_count": 3,
   "metadata": {},
   "outputs": [],
   "source": [
    "from pyspark.sql import SparkSession\n",
    "from splicemachine.spark import PySpliceContext\n",
    "from splicemachine.mlflow_support import *\n",
    "\n",
    "# Setup\n",
    "spark = SparkSession.builder.getOrCreate()\n",
    "splice = PySpliceContext(spark)\n",
    "mlflow.register_splice_context(splice)"
   ]
  },
  {
   "cell_type": "markdown",
   "metadata": {},
   "source": [
    "## Load in our Data"
   ]
  },
  {
   "cell_type": "code",
   "execution_count": 4,
   "metadata": {},
   "outputs": [
    {
     "name": "stdout",
     "output_type": "stream",
     "text": [
      "+------------+-----------+------------+-----------+-----+-------+\n",
      "|sepal_length|sepal_width|petal_length|petal_width|label|Species|\n",
      "+------------+-----------+------------+-----------+-----+-------+\n",
      "|         5.1|        3.5|         1.4|        0.2|  0.0| setosa|\n",
      "|         4.9|        3.0|         1.4|        0.2|  0.0| setosa|\n",
      "|         4.7|        3.2|         1.3|        0.2|  0.0| setosa|\n",
      "|         4.6|        3.1|         1.5|        0.2|  0.0| setosa|\n",
      "|         5.0|        3.6|         1.4|        0.2|  0.0| setosa|\n",
      "|         5.4|        3.9|         1.7|        0.4|  0.0| setosa|\n",
      "|         4.6|        3.4|         1.4|        0.3|  0.0| setosa|\n",
      "|         5.0|        3.4|         1.5|        0.2|  0.0| setosa|\n",
      "|         4.4|        2.9|         1.4|        0.2|  0.0| setosa|\n",
      "|         4.9|        3.1|         1.5|        0.1|  0.0| setosa|\n",
      "|         5.4|        3.7|         1.5|        0.2|  0.0| setosa|\n",
      "|         4.8|        3.4|         1.6|        0.2|  0.0| setosa|\n",
      "|         4.8|        3.0|         1.4|        0.1|  0.0| setosa|\n",
      "|         4.3|        3.0|         1.1|        0.1|  0.0| setosa|\n",
      "|         5.8|        4.0|         1.2|        0.2|  0.0| setosa|\n",
      "|         5.7|        4.4|         1.5|        0.4|  0.0| setosa|\n",
      "|         5.4|        3.9|         1.3|        0.4|  0.0| setosa|\n",
      "|         5.1|        3.5|         1.4|        0.3|  0.0| setosa|\n",
      "|         5.7|        3.8|         1.7|        0.3|  0.0| setosa|\n",
      "|         5.1|        3.8|         1.5|        0.3|  0.0| setosa|\n",
      "+------------+-----------+------------+-----------+-----+-------+\n",
      "only showing top 20 rows\n",
      "\n"
     ]
    }
   ],
   "source": [
    "from sklearn.datasets import load_iris\n",
    "import pandas as pd\n",
    "import numpy as np\n",
    "\n",
    "iris = load_iris()\n",
    "cols = [i.rstrip(' (cm)').replace(' ','_') for i in iris['feature_names']] + ['label']\n",
    "\n",
    "pdf = pd.DataFrame(data= np.c_[iris['data'], iris['target']],\n",
    "                     columns= cols)\n",
    "\n",
    "# Convert integer labels to meaningful labels\n",
    "pdf['Species'] = pdf['label'].map({i:iris.target_names[i] for i in range(3)}).astype('str')\n",
    "pdf.head()\n",
    "df = spark.createDataFrame(pdf)\n",
    "df.show()"
   ]
  },
  {
   "cell_type": "code",
   "execution_count": null,
   "metadata": {},
   "outputs": [],
   "source": [
    "from pyspark.ml.classification import DecisionTreeClassifier\n",
    "from pyspark.ml.feature import VectorAssembler\n",
    "from pyspark.ml.pipeline import Pipeline\n",
    "\n",
    "!jupyter nbconvert --to html \"MLflow Tracking.ipynb\"\n",
    "# Set our experiment for tracking\n",
    "mlflow.set_experiment('Iris Testing')\n",
    "\n",
    "va = VectorAssembler(inputCols=df.columns[:4], outputCol='features')\n",
    "dt = DecisionTreeClassifier()\n",
    "pipe = Pipeline(stages=[va,dt])\n",
    "\n",
    "with mlflow.start_run(run_name='DT_run'):\n",
    "    # Log entire Spark Pipeline\n",
    "    mlflow.log_pipeline_stages(pipe)\n",
    "    # Log entire feature transformation\n",
    "    mlflow.log_feature_transformations(pipe)\n",
    "    # Log training time\n",
    "    with mlflow.timer('train_time'):\n",
    "        model = pipe.fit(df)\n",
    "\n",
    "    # Save our model (library, version etc saved automatically)\n",
    "    mlflow.log_model(model, \"decision_tree_model\")\n",
    "    # Save notebook for viewing\n",
    "    mlflow.log_artifact('MLflow Tracking.html', 'MLflow Tracking.html')\n",
    "    \n",
    "    #gather some info\n",
    "    run_id = mlflow.current_run_id()\n",
    "    exp_id = mlflow.current_exp_id()\n",
    "    "
   ]
  },
  {
   "cell_type": "code",
   "execution_count": null,
   "metadata": {},
   "outputs": [],
   "source": [
    "get_mlflow_ui(experiment_id=exp_id, run_id=run_id)"
   ]
  },
  {
   "cell_type": "markdown",
   "metadata": {},
   "source": [
    "## Artifact Storage"
   ]
  },
  {
   "cell_type": "code",
   "execution_count": null,
   "metadata": {},
   "outputs": [],
   "source": [
    "from pyspark.mllib.evaluation import BinaryClassificationMetrics\n",
    "from splicemachine.notebook import hide_toggle\n",
    "import matplotlib.pyplot as plt\n",
    "\n",
    "# Scala version implements .roc() and .pr()\n",
    "# Python: https://spark.apache.org/docs/latest/api/python/_modules/pyspark/mllib/common.html\n",
    "# Scala: https://spark.apache.org/docs/latest/api/java/org/apache/spark/mllib/evaluation/BinaryClassificationMetrics.html\n",
    "class CurveMetrics(BinaryClassificationMetrics):\n",
    "    def __init__(self, *args):\n",
    "        super(CurveMetrics, self).__init__(*args)\n",
    "\n",
    "    def _to_list(self, rdd):\n",
    "        points = []\n",
    "        # Note this collect could be inefficient for large datasets \n",
    "        # considering there may be one probability per datapoint (at most)\n",
    "        # The Scala version takes a numBins parameter, \n",
    "        # but it doesn't seem possible to pass this from Python to Java\n",
    "        for row in rdd.collect():\n",
    "            # Results are returned as type scala.Tuple2, \n",
    "            # which doesn't appear to have a py4j mapping\n",
    "            points += [(float(row._1()), float(row._2()))]\n",
    "        return points\n",
    "\n",
    "    def get_curve(self, method):\n",
    "        rdd = getattr(self._java_model, method)().toJavaRDD()\n",
    "        return self._to_list(rdd)\n",
    "    \n",
    "    \n",
    "def plot_roc(points):\n",
    "    plt.figure()\n",
    "    x_val = [x[0] for x in points]\n",
    "    y_val = [x[1] for x in points]\n",
    "    plt.title('RoC')\n",
    "    plt.xlabel('FPR')\n",
    "    plt.ylabel('TPR')\n",
    "    plt.plot([0, 1], [0, 1], 'r--')\n",
    "    plt.plot(x_val, y_val)\n",
    "    plt.savefig('RoC.png')\n",
    "    \n",
    "hide_toggle()"
   ]
  },
  {
   "cell_type": "code",
   "execution_count": 52,
   "metadata": {
    "collapsed": true
   },
   "outputs": [
    {
     "name": "stdout",
     "output_type": "stream",
     "text": [
      "[NbConvertApp] Converting notebook MLflow Tracking.ipynb to html\n",
      "[NbConvertApp] Writing 323349 bytes to MLflow Tracking.html\n",
      "Warning: Transformer LogisticRegression_3e070b7e19a1 could not be parsed. If this is a model, this is expected.\n",
      "Warning: Transformer LogisticRegression_3e070b7e19a1 could not be parsed. If this is a model, this is expected.\n",
      "Starting Code Block train_time... Done.\n",
      "Code Block train_time:\n",
      "Ran in 3.28 secs\n",
      "Ran in 0.055 mins\n"
     ]
    },
    {
     "data": {
      "application/javascript": [
       "IPython.notebook.save_checkpoint();"
      ],
      "text/plain": [
       "<IPython.core.display.Javascript object>"
      ]
     },
     "metadata": {},
     "output_type": "display_data"
    },
    {
     "name": "stdout",
     "output_type": "stream",
     "text": [
      "Saving artifact of size: 9.982 KB to Splice Machine DB\n",
      "Saving artifact of size: 323.406 KB to Splice Machine DB\n",
      "Saving artifact of size: 13.035 KB to Splice Machine DB\n"
     ]
    },
    {
     "data": {
      "image/png": "[encoded data removed]",
      "text/plain": [
       "<Figure size 432x288 with 1 Axes>"
      ]
     },
     "metadata": {
      "needs_background": "light"
     },
     "output_type": "display_data"
    }
   ],
   "source": [
    "from pyspark.ml.classification import LogisticRegression\n",
    "from pyspark.ml.feature import VectorAssembler\n",
    "from pyspark.ml.pipeline import Pipeline\n",
    "from IPython.display import display, Javascript\n",
    "from time import sleep\n",
    "\n",
    "!jupyter nbconvert --to html \"MLflow Tracking.ipynb\"\n",
    "# Set our experiment for tracking\n",
    "mlflow.set_experiment('Iris Testing')\n",
    "\n",
    "va = VectorAssembler(inputCols=df.columns[:4], outputCol='features')\n",
    "lr = LogisticRegression()\n",
    "pipe = Pipeline(stages=[va,lr])\n",
    "\n",
    "with mlflow.start_run(run_name='LR Run'):\n",
    "    # Log entire Spark Pipeline\n",
    "    mlflow.log_pipeline_stages(pipe)\n",
    "    # Log entire feature transformation\n",
    "    mlflow.log_feature_transformations(pipe)\n",
    "    \n",
    "    train,test = df.randomSplit([0.8,0.2])\n",
    "    # Log training time\n",
    "    with mlflow.timer('train_time'):\n",
    "        model = pipe.fit(train)\n",
    "    \n",
    "    predictions = model.transform(test).select('label','probability').rdd.map(lambda row: (float(row['probability'][1]), float(row['label'])))\n",
    "    points = CurveMetrics(preds).get_curve('roc')\n",
    "    plot_roc(points)\n",
    "    \n",
    "    display(Javascript('IPython.notebook.save_checkpoint();'))\n",
    "    \n",
    "    # Log our artifacts\n",
    "    mlflow.log_model(model, \"lr_model\")\n",
    "    mlflow.log_artifact('MLflow Tracking.html', 'MLflow Tracking.html')\n",
    "    mlflow.log_artifact('RoC.png','RoC.png')\n",
    "\n",
    "    \n",
    "    #gather some info\n",
    "    run_id = mlflow.current_run_id()\n",
    "    exp_id = mlflow.current_exp_id()    "
   ]
  },
  {
   "cell_type": "code",
   "execution_count": 53,
   "metadata": {
    "collapsed": true
   },
   "outputs": [
    {
     "data": {
      "text/html": [
       "<font size=\"+1\"><a target=\"_blank\" href=/mlflow/#/experiments/30/runs/99631100257d>MLFlow UI</a></font>"
      ],
      "text/plain": [
       "<IPython.core.display.HTML object>"
      ]
     },
     "metadata": {},
     "output_type": "display_data"
    },
    {
     "data": {
      "text/html": [
       "\n",
       "        <iframe\n",
       "            width=\"100%\"\n",
       "            height=\"500px\"\n",
       "            src=\"/mlflow/#/experiments/30/runs/99631100257d\"\n",
       "            frameborder=\"0\"\n",
       "            allowfullscreen\n",
       "        ></iframe>\n",
       "        "
      ],
      "text/plain": [
       "<IPython.lib.display.IFrame at 0x7f76709e8bd0>"
      ]
     },
     "execution_count": 53,
     "metadata": {},
     "output_type": "execute_result"
    }
   ],
   "source": [
    "get_mlflow_ui(exp_id, run_id)"
   ]
  },
  {
   "cell_type": "markdown",
   "metadata": {},
   "source": [
    "## Storing to GitHub"
   ]
  },
  {
   "cell_type": "code",
   "execution_count": null,
   "metadata": {},
   "outputs": [],
   "source": [
    "from IPython.display import display, Javascript\n",
    "\n",
    "# Save our notebook\n",
    "display(Javascript('IPython.notebook.save_checkpoint();'))\n",
    "\n",
    "!git add .\n",
    "!git commit -m \"first pass model complete with RoC\"\n",
    "!git push"
   ]
  },
  {
   "cell_type": "code",
   "execution_count": null,
   "metadata": {},
   "outputs": [],
   "source": []
  },
  {
   "cell_type": "code",
   "execution_count": null,
   "metadata": {},
   "outputs": [],
   "source": []
  },
  {
   "cell_type": "code",
   "execution_count": null,
   "metadata": {},
   "outputs": [],
   "source": []
  },
  {
   "cell_type": "code",
   "execution_count": null,
   "metadata": {},
   "outputs": [],
   "source": []
  },
  {
   "cell_type": "code",
   "execution_count": null,
   "metadata": {},
   "outputs": [],
   "source": []
  },
  {
   "cell_type": "code",
   "execution_count": null,
   "metadata": {},
   "outputs": [],
   "source": []
  },
  {
   "cell_type": "code",
   "execution_count": null,
   "metadata": {},
   "outputs": [],
   "source": []
  },
  {
   "cell_type": "code",
   "execution_count": null,
   "metadata": {},
   "outputs": [],
   "source": []
  },
  {
   "cell_type": "code",
   "execution_count": null,
   "metadata": {},
   "outputs": [],
   "source": []
  },
  {
   "cell_type": "code",
   "execution_count": null,
   "metadata": {},
   "outputs": [],
   "source": []
  },
  {
   "cell_type": "code",
   "execution_count": null,
   "metadata": {},
   "outputs": [],
   "source": []
  }
 ],
 "metadata": {
  "kernelspec": {
   "display_name": "Python 3",
   "language": "python",
   "name": "python3"
  },
  "language_info": {
   "codemirror_mode": {
    "name": "ipython",
    "version": 3
   },
   "file_extension": ".py",
   "mimetype": "text/x-python",
   "name": "python",
   "nbconvert_exporter": "python",
   "pygments_lexer": "ipython3",
   "version": "3.7.6"
  },
  "toc": {
   "base_numbering": 1,
   "nav_menu": {},
   "number_sections": false,
   "sideBar": false,
   "skip_h1_title": false,
   "title_cell": "Table of Contents",
   "title_sidebar": "Contents",
   "toc_cell": false,
   "toc_position": {},
   "toc_section_display": false,
   "toc_window_display": false
  }
 },
 "nbformat": 4,
 "nbformat_minor": 4
}
